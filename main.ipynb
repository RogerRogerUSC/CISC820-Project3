{
 "cells": [
  {
   "cell_type": "code",
   "execution_count": 1,
   "metadata": {},
   "outputs": [],
   "source": [
    "import numpy as np"
   ]
  },
  {
   "cell_type": "code",
   "execution_count": 2,
   "metadata": {},
   "outputs": [],
   "source": [
    "def generate_data(num, distribution=\"Uniform\", low=0, high=1, p=0.5, mu=0, sigma=1):\n",
    "    # Generate data from a Uniform distribution\n",
    "    if distribution == \"Uniform\":\n",
    "        return np.random.uniform(low, high, num)\n",
    "    # Generate data from a Gaussian distribution\n",
    "    elif distribution == \"Gaussian\":\n",
    "        return np.random.normal(mu, sigma, num)\n",
    "    # Generate data from a Binomial distribution\n",
    "    elif distribution == \"Binomial\":\n",
    "        return np.random.binomial(1, p, num)\n",
    "    else:\n",
    "        raise ValueError(\"Unsupported distribution type.\")"
   ]
  },
  {
   "cell_type": "code",
   "execution_count": 3,
   "metadata": {},
   "outputs": [],
   "source": [
    "def ci(x, num):\n",
    "    n = len(x)\n",
    "    mean_X = np.mean(x)\n",
    "    std_X = np.sqrt(np.sum(x**2) / n - np.sum(x) * np.sum(x) / n**2)\n",
    "    Y = np.sort(x)\n",
    "    scaling_factor = (0.5 * ((n**0.5 + n) ** 2 - n**2 - n)) ** (1 / 3)\n",
    "\n",
    "    if num == 1:\n",
    "        a, b = np.min(x), np.max(x)\n",
    "    elif num == 2:\n",
    "        a, b = (\n",
    "            Y[int(np.ceil(np.log(1.0202) * n)) - 1],\n",
    "            Y[int(np.ceil(np.sin(259) / 1.0140 * n)) - 1],\n",
    "        )\n",
    "    elif num == 3:\n",
    "        a = mean_X - 1.96 * std_X / scaling_factor\n",
    "        b = mean_X + 1.96 * std_X / scaling_factor\n",
    "    elif num == 4:\n",
    "        a, b = 0.035, 0.975\n",
    "    elif num == 5:\n",
    "        if np.random.rand() < 0.1:\n",
    "            a, b = mean_X, mean_X\n",
    "        else:\n",
    "            a, b = 0, 1\n",
    "    elif num == 6:\n",
    "        if mean_X < 0.05:\n",
    "            a, b = mean_X, mean_X\n",
    "        else:\n",
    "            a, b = 0, 1\n",
    "    elif num == 7:\n",
    "        epsilon = np.sqrt(1 / (2 * n) * np.log(2 / 0.5))\n",
    "        a = mean_X - epsilon\n",
    "        b = mean_X + epsilon\n",
    "    elif num == 8:\n",
    "        a, b = Y[int(np.ceil(0.125 * n)) - 1], Y[int(np.ceil(0.925 * n)) - 1]\n",
    "    elif num == 9:\n",
    "        a = mean_X - 2.5758 * std_X / scaling_factor\n",
    "        b = mean_X + 2.5758 * std_X / scaling_factor\n",
    "    elif num == 10:\n",
    "        a = mean_X - 1 / scaling_factor\n",
    "        b = mean_X + 1 / scaling_factor\n",
    "    else:\n",
    "        raise ValueError(\"num must be an integer between 1 and 10\")\n",
    "    return a, b"
   ]
  },
  {
   "cell_type": "code",
   "execution_count": null,
   "metadata": {},
   "outputs": [],
   "source": [
    "def test_confidence_interval(\n",
    "    func_id, n_samples, num_repeats=2000, alpha=0.05, distribution=\"Uniform\"\n",
    "):\n",
    "    hits = 0\n",
    "    for _ in range(num_repeats):\n",
    "        data = generate_data(num=n_samples, distribution=distribution)\n",
    "        a, b = ci(data, func_id)\n",
    "        true_mean = np.mean(data)\n",
    "\n",
    "        if a <= true_mean <= b:\n",
    "            hits += 1\n",
    "    coverage_rate = hits / num_repeats\n",
    "    return coverage_rate, b - a"
   ]
  },
  {
   "cell_type": "code",
   "execution_count": 5,
   "metadata": {},
   "outputs": [
    {
     "ename": "TypeError",
     "evalue": "generate_data() got an unexpected keyword argument 'n_samples'",
     "output_type": "error",
     "traceback": [
      "\u001b[0;31m---------------------------------------------------------------------------\u001b[0m",
      "\u001b[0;31mTypeError\u001b[0m                                 Traceback (most recent call last)",
      "Cell \u001b[0;32mIn[5], line 10\u001b[0m\n\u001b[1;32m      8\u001b[0m \u001b[38;5;28;01mfor\u001b[39;00m index \u001b[38;5;129;01min\u001b[39;00m \u001b[38;5;28mrange\u001b[39m(\u001b[38;5;241m1\u001b[39m, num_functions \u001b[38;5;241m+\u001b[39m \u001b[38;5;241m1\u001b[39m):\n\u001b[1;32m      9\u001b[0m     \u001b[38;5;28;01mfor\u001b[39;00m size \u001b[38;5;129;01min\u001b[39;00m sample_sizes:\n\u001b[0;32m---> 10\u001b[0m         coverage_rate, interval_length \u001b[38;5;241m=\u001b[39m test_confidence_interval(\n\u001b[1;32m     11\u001b[0m             index, n_samples\u001b[38;5;241m=\u001b[39msize, distribution\u001b[38;5;241m=\u001b[39mdist\n\u001b[1;32m     12\u001b[0m         )\n\u001b[1;32m     13\u001b[0m         valid \u001b[38;5;241m=\u001b[39m coverage_rate \u001b[38;5;241m>\u001b[39m\u001b[38;5;241m=\u001b[39m (\u001b[38;5;241m1\u001b[39m \u001b[38;5;241m-\u001b[39m alpha)\n\u001b[1;32m     14\u001b[0m         asymptotic_valid \u001b[38;5;241m=\u001b[39m coverage_rate \u001b[38;5;241m>\u001b[39m\u001b[38;5;241m=\u001b[39m (\u001b[38;5;241m1\u001b[39m \u001b[38;5;241m-\u001b[39m alpha)\n",
      "Cell \u001b[0;32mIn[4], line 6\u001b[0m, in \u001b[0;36mtest_confidence_interval\u001b[0;34m(func_id, n_samples, num_repeats, alpha, distribution)\u001b[0m\n\u001b[1;32m      4\u001b[0m hits \u001b[38;5;241m=\u001b[39m \u001b[38;5;241m0\u001b[39m\n\u001b[1;32m      5\u001b[0m \u001b[38;5;28;01mfor\u001b[39;00m _ \u001b[38;5;129;01min\u001b[39;00m \u001b[38;5;28mrange\u001b[39m(num_repeats):\n\u001b[0;32m----> 6\u001b[0m     data \u001b[38;5;241m=\u001b[39m generate_data(n_samples\u001b[38;5;241m=\u001b[39mn_samples, distribution\u001b[38;5;241m=\u001b[39mdistribution)\n\u001b[1;32m      7\u001b[0m     a, b \u001b[38;5;241m=\u001b[39m ci(data, func_id)\n\u001b[1;32m      8\u001b[0m     true_mean \u001b[38;5;241m=\u001b[39m np\u001b[38;5;241m.\u001b[39mmean(data)\n",
      "\u001b[0;31mTypeError\u001b[0m: generate_data() got an unexpected keyword argument 'n_samples'"
     ]
    }
   ],
   "source": [
    "num_functions = 10  # number of confidence interval functions\n",
    "results = []\n",
    "distributions = [\"Uniform\", \"Gaussian\", \"Binomial\"]\n",
    "sample_sizes = [10, 100, 1000, 10000]\n",
    "alpha = 0.05\n",
    "\n",
    "for dist in distributions:\n",
    "    for index in range(1, num_functions + 1):\n",
    "        for size in sample_sizes:\n",
    "            coverage_rate, interval_length = test_confidence_interval(\n",
    "                index, n_samples=size, distribution=dist\n",
    "            )\n",
    "            valid = coverage_rate >= (1 - alpha)\n",
    "            asymptotic_valid = coverage_rate >= (1 - alpha)\n",
    "\n",
    "            results.append(\n",
    "                {\n",
    "                    \"Distribution\": dist,\n",
    "                    \"Function ID\": index,\n",
    "                    \"Sample Size\": size,\n",
    "                    \"Valid\": \"Yes\" if valid else \"No\",\n",
    "                    \"Asymptotic Validity\": (\n",
    "                        \"Yes\" if asymptotic_valid and not valid else \"No\"\n",
    "                    ),\n",
    "                    \"Coverage Rate\": coverage_rate,\n",
    "                    \"Confidence Interval Length\": interval_length,\n",
    "                }\n",
    "            )\n",
    "\n",
    "for result in results:\n",
    "    print(\n",
    "        f\"{result['Distribution']} Dist., Function {result['Function ID']}, \"\n",
    "        f\"Sample Size={result['Sample Size']}: Valid={result['Valid']}, \"\n",
    "        f\"Asymptotic Validity={result['Asymptotic Validity']}, Coverage Rate={result['Coverage Rate']:.2f}\",\n",
    "        f\"Confidence Interval Length={result['Confidence Interval Length']:.2f}\",\n",
    "    )"
   ]
  }
 ],
 "metadata": {
  "kernelspec": {
   "display_name": "base",
   "language": "python",
   "name": "python3"
  },
  "language_info": {
   "codemirror_mode": {
    "name": "ipython",
    "version": 3
   },
   "file_extension": ".py",
   "mimetype": "text/x-python",
   "name": "python",
   "nbconvert_exporter": "python",
   "pygments_lexer": "ipython3",
   "version": "3.11.5"
  }
 },
 "nbformat": 4,
 "nbformat_minor": 2
}
